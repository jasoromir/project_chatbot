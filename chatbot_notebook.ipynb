{
  "nbformat": 4,
  "nbformat_minor": 0,
  "metadata": {
    "colab": {
      "name": "Untitled9.ipynb",
      "provenance": [],
      "collapsed_sections": [],
      "toc_visible": true,
      "authorship_tag": "ABX9TyNqFAuXNTj+WkHR3JDBeMMx",
      "include_colab_link": true
    },
    "kernelspec": {
      "name": "python3",
      "display_name": "Python 3"
    }
  },
  "cells": [
    {
      "cell_type": "markdown",
      "metadata": {
        "id": "view-in-github",
        "colab_type": "text"
      },
      "source": [
        "<a href=\"https://colab.research.google.com/github/jasoromir/project_chatbot/blob/main/chatbot_notebook.ipynb\" target=\"_parent\"><img src=\"https://colab.research.google.com/assets/colab-badge.svg\" alt=\"Open In Colab\"/></a>"
      ]
    },
    {
      "cell_type": "markdown",
      "metadata": {
        "id": "MLLlnIRhw_dG"
      },
      "source": [
        "# Introduction\r\n",
        "Chatbots are extremely helpful for business organizations and also the customers. The majority of people prefer to talk directly from a chatbox instead of calling service centers. Facebook released data that proved the value of bots. More than 2 billion messages are sent between people and companies monthly. The HubSpot research tells us that 71% of people want to get customer support from messaging apps. It is a quick way to get their problems solved so chatbots have a bright future in organizations.\r\n",
        "\r\n",
        "Today we are going to build an exciting project on Chatbot. We will implement a chatbot from scratch that will be able to understand what the user is talking about and give an appropriate response."
      ]
    },
    {
      "cell_type": "markdown",
      "metadata": {
        "id": "27OqBOFuwnlW"
      },
      "source": [
        "# Prerequisites\r\n",
        "To implement the chatbot, we will be using Keras, which is a Deep Learning library, NLTK, which is a Natural Language Processing toolkit, and some helpful libraries. Run the below command to make sure all the libraries are installed:"
      ]
    },
    {
      "cell_type": "code",
      "metadata": {
        "colab": {
          "base_uri": "https://localhost:8080/"
        },
        "id": "D5UIxF8Wwmxw",
        "outputId": "a5abc450-b105-4593-90b9-5012eabf17c2"
      },
      "source": [
        "!pip install tensorflow keras nltk pickle"
      ],
      "execution_count": null,
      "outputs": [
        {
          "output_type": "stream",
          "text": [
            "Requirement already satisfied: tensorflow in /usr/local/lib/python3.6/dist-packages (2.4.0)\n",
            "Requirement already satisfied: keras in /usr/local/lib/python3.6/dist-packages (2.4.3)\n",
            "Requirement already satisfied: nltk in /usr/local/lib/python3.6/dist-packages (3.2.5)\n",
            "\u001b[31mERROR: Could not find a version that satisfies the requirement pickle (from versions: none)\u001b[0m\n",
            "\u001b[31mERROR: No matching distribution found for pickle\u001b[0m\n"
          ],
          "name": "stdout"
        }
      ]
    },
    {
      "cell_type": "markdown",
      "metadata": {
        "id": "c482jINmxMhR"
      },
      "source": [
        "# How chatbot works?\r\n",
        "\r\n",
        "Chatbots are nothing but an intelligent piece of software that can interact and communicate with people just like humans. Interesting, isn’t it? So now let's see how they actually work.\r\n",
        "\r\n",
        "All chatbots come under the NLP (Natural Language Processing) concepts. NLP is composed of two things:\r\n",
        "\r\n",
        "* NLU (Natural Language Understanding): The ability of machines to understand human language like English.\r\n",
        "\r\n",
        "* NLG (Natural Language Generation): The ability of a machine to generate text similar to human written sentences.\r\n",
        "\r\n",
        "Imagine a user asking a question to a chatbot: “Hey, what’s on the news today?”\r\n",
        "\r\n",
        "The chatbot will break down the user sentence into two things: intent and an entity. The intent for this sentence could be get_news as it refers to an action the user wants to perform. The entity tells specific details about the intent, so \"today\" will be the entity. So this way, a machine learning model is used to recognize the intents and entities of the chat."
      ]
    },
    {
      "cell_type": "markdown",
      "metadata": {
        "id": "GzvHv4upxbMI"
      },
      "source": [
        "# Project File Structure\r\n",
        "After the project is complete, you will be left with all these files. Lets quickly go through each of them. It will give you an idea of how the project will be implemented.\r\n",
        "\r\n",
        "* Train_chatbot.py — In this file, we will build and train the deep learning model that can classify and identify what the user is asking to the bot.\r\n",
        "\r\n",
        "* Gui_Chatbot.py — This file is where we will build a graphical user interface to chat with our trained chatbot.\r\n",
        "\r\n",
        "* Intents.json — The intents file has all the data that we will use to train the model. It contains a collection of tags with their corresponding patterns and responses.\r\n",
        "\r\n",
        "* Chatbot_model.h5 — This is a hierarchical data format file in which we have stored the weights and the architecture of our trained model.\r\n",
        "\r\n",
        "* Classes.pkl — The pickle file can be used to store all the tag names to classify when we are predicting the message.\r\n",
        "\r\n",
        "* Words.pkl — The words.pkl pickle file contains all the unique words that are the vocabulary of our model."
      ]
    },
    {
      "cell_type": "markdown",
      "metadata": {
        "id": "qT-51e2CxsXP"
      },
      "source": [
        "# How to Build Your Own Chatbot\r\n",
        "I’ve simplified the building of this chatbot in 5 steps:"
      ]
    },
    {
      "cell_type": "code",
      "metadata": {
        "id": "vLo0uLlPyhUT"
      },
      "source": [
        "# Download the source code and the dataset\r\n",
        "!gdown https://drive.google.com/uc?id=1JhHmN5S_4CIBVqMbitrBtmJOJGUO655R\r\n",
        "!gdown https://drive.google.com/uc?id=19pej9bIA2tKZklRZuTW2xl2mekAfzExL\r\n",
        "!gdown https://drive.google.com/uc?id=1SH7NCXzDPsW7oaes_gMduXKyJiH--WdE\r\n",
        "!gdown https://drive.google.com/uc?id=1CrdJGwT5MnWwaUmJXQrTYXCMnR0qN7z0\r\n",
        "!gdown https://drive.google.com/uc?id=11jn3jz9qiCdD-NP6XULxWD_zKKwUJxId\r\n",
        "!gdown https://drive.google.com/uc?id=1mhMQ-Tte4piYbX2F40dHVjNFNzG1kmRW\r\n"
      ],
      "execution_count": null,
      "outputs": []
    },
    {
      "cell_type": "markdown",
      "metadata": {
        "id": "onnc2x_6xvIK"
      },
      "source": [
        "## Step 1. Import Libraries and Load the Data\r\n",
        "Create a new python file and name it as train_chatbot and then we are going to import all the required modules. After that, we will read the JSON data file in our Python program."
      ]
    },
    {
      "cell_type": "code",
      "metadata": {
        "colab": {
          "base_uri": "https://localhost:8080/"
        },
        "id": "QT1MQWcmw7uq",
        "outputId": "b72ba598-32f6-4791-e72b-943b580a6e9d"
      },
      "source": [
        "import numpy as np\r\n",
        "from keras.models import Sequential\r\n",
        "from keras.layers import Dense, Activation, Dropout\r\n",
        "from keras.optimizers import SGD\r\n",
        "import random\r\n",
        "import nltk\r\n",
        "nltk.download('punkt')\r\n",
        "nltk.download('wordnet')\r\n",
        "from nltk.stem import WordNetLemmatizer\r\n",
        "lemmatizer = WordNetLemmatizer()\r\n",
        "import json\r\n",
        "import pickle\r\n",
        "\r\n",
        "intents_file = open('intents.json').read()\r\n",
        "intents = json.loads(intents_file)"
      ],
      "execution_count": null,
      "outputs": [
        {
          "output_type": "stream",
          "text": [
            "[nltk_data] Downloading package punkt to /root/nltk_data...\n",
            "[nltk_data]   Package punkt is already up-to-date!\n",
            "[nltk_data] Downloading package wordnet to /root/nltk_data...\n",
            "[nltk_data]   Unzipping corpora/wordnet.zip.\n"
          ],
          "name": "stdout"
        }
      ]
    },
    {
      "cell_type": "code",
      "metadata": {
        "id": "-AEQJP_b0Hfr"
      },
      "source": [
        "#Take a look of the intents for the conversation:\r\n",
        "intents"
      ],
      "execution_count": null,
      "outputs": []
    },
    {
      "cell_type": "markdown",
      "metadata": {
        "id": "2M5wl99J0rFc"
      },
      "source": [
        "## Step 2. Preprocessing the Data\r\n",
        "The model cannot take the raw data. It has to go through a lot of pre-processing for the machine to easily understand. For textual data, there are many preprocessing techniques available. The first technique is tokenizing, in which we break the sentences into words.\r\n",
        "\r\n",
        "By observing the intents file, we can see that each tag contains a list of patterns and responses. We tokenize each pattern and add the words in a list. Also, we create a list of classes and documents to add all the intents associated with patterns."
      ]
    },
    {
      "cell_type": "code",
      "metadata": {
        "colab": {
          "base_uri": "https://localhost:8080/"
        },
        "id": "W_oI6sBx0h_7",
        "outputId": "bf607196-deb6-4684-a82e-5e34e68e2661"
      },
      "source": [
        "words=[]\r\n",
        "classes = []\r\n",
        "documents = []\r\n",
        "ignore_letters = ['!', '?', ',', '.']\r\n",
        "for intent in intents['intents']:\r\n",
        "    for pattern in intent['patterns']:\r\n",
        "        #tokenize each word\r\n",
        "        word = nltk.word_tokenize(pattern)\r\n",
        "        words.extend(word)        \r\n",
        "\r\n",
        "        #add documents in the corpus\r\n",
        "        documents.append((word, intent['tag']))\r\n",
        "\r\n",
        "        # add to our classes list\r\n",
        "        if intent['tag'] not in classes:\r\n",
        "            classes.append(intent['tag'])\r\n",
        "print(documents)"
      ],
      "execution_count": null,
      "outputs": [
        {
          "output_type": "stream",
          "text": [
            "[(['Hi', 'there'], 'greeting'), (['How', 'are', 'you'], 'greeting'), (['Is', 'anyone', 'there', '?'], 'greeting'), (['Hey'], 'greeting'), (['Hola'], 'greeting'), (['Hello'], 'greeting'), (['Good', 'day'], 'greeting'), (['Bye'], 'goodbye'), (['See', 'you', 'later'], 'goodbye'), (['Goodbye'], 'goodbye'), (['Nice', 'chatting', 'to', 'you', ',', 'bye'], 'goodbye'), (['Till', 'next', 'time'], 'goodbye'), (['Thanks'], 'thanks'), (['Thank', 'you'], 'thanks'), (['That', \"'s\", 'helpful'], 'thanks'), (['Awesome', ',', 'thanks'], 'thanks'), (['Thanks', 'for', 'helping', 'me'], 'thanks'), (['How', 'you', 'could', 'help', 'me', '?'], 'options'), (['What', 'you', 'can', 'do', '?'], 'options'), (['What', 'help', 'you', 'provide', '?'], 'options'), (['How', 'you', 'can', 'be', 'helpful', '?'], 'options'), (['What', 'support', 'is', 'offered'], 'options'), (['How', 'to', 'check', 'Adverse', 'drug', 'reaction', '?'], 'adverse_drug'), (['Open', 'adverse', 'drugs', 'module'], 'adverse_drug'), (['Give', 'me', 'a', 'list', 'of', 'drugs', 'causing', 'adverse', 'behavior'], 'adverse_drug'), (['List', 'all', 'drugs', 'suitable', 'for', 'patient', 'with', 'adverse', 'reaction'], 'adverse_drug'), (['Which', 'drugs', 'dont', 'have', 'adverse', 'reaction', '?'], 'adverse_drug'), (['Open', 'blood', 'pressure', 'module'], 'blood_pressure'), (['Task', 'related', 'to', 'blood', 'pressure'], 'blood_pressure'), (['Blood', 'pressure', 'data', 'entry'], 'blood_pressure'), (['I', 'want', 'to', 'log', 'blood', 'pressure', 'results'], 'blood_pressure'), (['Blood', 'pressure', 'data', 'management'], 'blood_pressure'), (['I', 'want', 'to', 'search', 'for', 'blood', 'pressure', 'result', 'history'], 'blood_pressure_search'), (['Blood', 'pressure', 'for', 'patient'], 'blood_pressure_search'), (['Load', 'patient', 'blood', 'pressure', 'result'], 'blood_pressure_search'), (['Show', 'blood', 'pressure', 'results', 'for', 'patient'], 'blood_pressure_search'), (['Find', 'blood', 'pressure', 'results', 'by', 'ID'], 'blood_pressure_search'), (['Find', 'me', 'a', 'pharmacy'], 'pharmacy_search'), (['Find', 'pharmacy'], 'pharmacy_search'), (['List', 'of', 'pharmacies', 'nearby'], 'pharmacy_search'), (['Locate', 'pharmacy'], 'pharmacy_search'), (['Search', 'pharmacy'], 'pharmacy_search'), (['Lookup', 'for', 'hospital'], 'hospital_search'), (['Searching', 'for', 'hospital', 'to', 'transfer', 'patient'], 'hospital_search'), (['I', 'want', 'to', 'search', 'hospital', 'data'], 'hospital_search'), (['Hospital', 'lookup', 'for', 'patient'], 'hospital_search'), (['Looking', 'up', 'hospital', 'details'], 'hospital_search')]\n"
          ],
          "name": "stdout"
        }
      ]
    },
    {
      "cell_type": "code",
      "metadata": {
        "colab": {
          "base_uri": "https://localhost:8080/"
        },
        "id": "jERkOkxC09dP",
        "outputId": "a1dfbe0d-0b43-4f63-c10a-e33451ca8fac"
      },
      "source": [
        "# lemmaztize and lower each word and remove duplicates\r\n",
        "words = [lemmatizer.lemmatize(w.lower()) for w in words if w not in ignore_letters]\r\n",
        "words = sorted(list(set(words)))\r\n",
        "\r\n",
        "# sort classes\r\n",
        "classes = sorted(list(set(classes)))\r\n",
        "\r\n",
        "# documents = combination between patterns and intents\r\n",
        "print (len(documents), \"documents\")\r\n",
        "\r\n",
        "# classes = intents\r\n",
        "print (len(classes), \"classes\", classes)\r\n",
        "\r\n",
        "# words = all words, vocabulary\r\n",
        "print (len(words), \"unique lemmatized words\", words)\r\n",
        "\r\n",
        "pickle.dump(words,open('words.pkl','wb'))\r\n",
        "pickle.dump(classes,open('classes.pkl','wb'))"
      ],
      "execution_count": null,
      "outputs": [
        {
          "output_type": "stream",
          "text": [
            "47 documents\n",
            "9 classes ['adverse_drug', 'blood_pressure', 'blood_pressure_search', 'goodbye', 'greeting', 'hospital_search', 'options', 'pharmacy_search', 'thanks']\n",
            "87 unique lemmatized words [\"'s\", 'a', 'adverse', 'all', 'anyone', 'are', 'awesome', 'be', 'behavior', 'blood', 'by', 'bye', 'can', 'causing', 'chatting', 'check', 'could', 'data', 'day', 'detail', 'do', 'dont', 'drug', 'entry', 'find', 'for', 'give', 'good', 'goodbye', 'have', 'hello', 'help', 'helpful', 'helping', 'hey', 'hi', 'history', 'hola', 'hospital', 'how', 'i', 'id', 'is', 'later', 'list', 'load', 'locate', 'log', 'looking', 'lookup', 'management', 'me', 'module', 'nearby', 'next', 'nice', 'of', 'offered', 'open', 'patient', 'pharmacy', 'pressure', 'provide', 'reaction', 'related', 'result', 'search', 'searching', 'see', 'show', 'suitable', 'support', 'task', 'thank', 'thanks', 'that', 'there', 'till', 'time', 'to', 'transfer', 'up', 'want', 'what', 'which', 'with', 'you']\n"
          ],
          "name": "stdout"
        }
      ]
    },
    {
      "cell_type": "markdown",
      "metadata": {
        "id": "icGjteG54_Ca"
      },
      "source": [
        "In the end, the words contain the vocabulary of our project and classes contain the total entities to classify. To save the python object in a file, we used the pickle.dump() method. These files will be helpful after the training is done and we predict the chats."
      ]
    },
    {
      "cell_type": "markdown",
      "metadata": {
        "id": "VkOe-uA35CPz"
      },
      "source": [
        "## Step 3. Create Training and Testing Data\r\n",
        "To train the model, we will convert each input pattern into numbers. First, we will lemmatize each word of the pattern and create a list of zeroes of the same length as the total number of words. We will set value 1 to only those indexes that contain the word in the patterns. In the same way, we will create the output by setting 1 to the class input the pattern belongs to."
      ]
    },
    {
      "cell_type": "code",
      "metadata": {
        "colab": {
          "base_uri": "https://localhost:8080/"
        },
        "id": "0i98sQsQ4-Y8",
        "outputId": "6fbd300f-7705-4a2a-ef08-5f3e549f6ff3"
      },
      "source": [
        "# create the training data\r\n",
        "training = []\r\n",
        "\r\n",
        "# create empty array for the output\r\n",
        "output_empty = [0] * len(classes)\r\n",
        "\r\n",
        "# training set, bag of words for every sentence\r\n",
        "for doc in documents:\r\n",
        "    # initializing bag of words\r\n",
        "    bag = []\r\n",
        "    # list of tokenized words for the pattern\r\n",
        "    word_patterns = doc[0]\r\n",
        "    # lemmatize each word - create base word, in attempt to represent related words\r\n",
        "    word_patterns = [lemmatizer.lemmatize(word.lower()) for word in word_patterns]\r\n",
        "    # create the bag of words array with 1, if word is found in current pattern\r\n",
        "    for word in words:\r\n",
        "        bag.append(1) if word in word_patterns else bag.append(0)   \r\n",
        "\r\n",
        "    # output is a '0' for each tag and '1' for current tag (for each pattern)\r\n",
        "    output_row = list(output_empty)\r\n",
        "    output_row[classes.index(doc[1])] = 1\r\n",
        "    training.append([bag, output_row])\r\n",
        "\r\n",
        "# shuffle the features and make numpy array\r\n",
        "random.shuffle(training)\r\n",
        "training = np.array(training)\r\n",
        "\r\n",
        "# create training and testing lists. X - patterns, Y - intents\r\n",
        "train_x = list(training[:,0])\r\n",
        "train_y = list(training[:,1])\r\n",
        "\r\n",
        "print(\"Training data is created\")"
      ],
      "execution_count": null,
      "outputs": [
        {
          "output_type": "stream",
          "text": [
            "Training data is created\n"
          ],
          "name": "stdout"
        },
        {
          "output_type": "stream",
          "text": [
            "/usr/local/lib/python3.6/dist-packages/ipykernel_launcher.py:26: VisibleDeprecationWarning: Creating an ndarray from ragged nested sequences (which is a list-or-tuple of lists-or-tuples-or ndarrays with different lengths or shapes) is deprecated. If you meant to do this, you must specify 'dtype=object' when creating the ndarray\n"
          ],
          "name": "stderr"
        }
      ]
    },
    {
      "cell_type": "markdown",
      "metadata": {
        "id": "0gcACcov6lG1"
      },
      "source": [
        "## Step 4. Training the Model\r\n",
        "The architecture of our model will be a neural network consisting of 3 dense layers. The first layer has 128 neurons, the second one has 64 and the last layer will have the same neurons as the number of classes. The dropout layers are introduced to reduce overfitting of the model. We have used the SGD optimizer and fit the data to start the training of the model. After the training of 200 epochs is completed, we then save the trained model using the Keras model.save(“chatbot_model.h5”) function."
      ]
    },
    {
      "cell_type": "code",
      "metadata": {
        "id": "KJWkg6_w5fv5"
      },
      "source": [
        "# deep neural networds model\r\n",
        "model = Sequential()\r\n",
        "model.add(Dense(128, input_shape=(len(train_x[0]),), activation='relu'))\r\n",
        "model.add(Dropout(0.5))\r\n",
        "model.add(Dense(64, activation='relu'))\r\n",
        "model.add(Dropout(0.5))\r\n",
        "model.add(Dense(len(train_y[0]), activation='softmax'))\r\n",
        "\r\n",
        "# Compiling model. SGD with Nesterov accelerated gradient gives good results for this model\r\n",
        "sgd = SGD(lr=0.01, decay=1e-6, momentum=0.9, nesterov=True)\r\n",
        "model.compile(loss='categorical_crossentropy', optimizer=sgd, metrics=['accuracy'])\r\n",
        "\r\n",
        "#Training and saving the model \r\n",
        "hist = model.fit(np.array(train_x), np.array(train_y), epochs=200, batch_size=5, verbose=1)\r\n",
        "model.save('chatbot_model.h5', hist)\r\n",
        "\r\n",
        "print(\"model is created\")"
      ],
      "execution_count": null,
      "outputs": []
    },
    {
      "cell_type": "markdown",
      "metadata": {
        "id": "GzPC0sxj7DBl"
      },
      "source": [
        "## Step 5. Interacting With the Chatbot\r\n",
        "Our model is ready to chat, so now let’s create a nice graphical user interface for our chatbot in a new file. You can name the file as gui_chatbot.py\r\n",
        "\r\n",
        "In our GUI file, we will be using the Tkinter module to build the structure of the desktop application and then we will capture the user message and again perform some preprocessing before we input the message into our trained model.\r\n",
        "\r\n",
        "The model will then predict the tag of the user’s message, and we will randomly select the response from the list of responses in our intents file."
      ]
    },
    {
      "cell_type": "code",
      "metadata": {
        "id": "3TZbzGOi9CZ1",
        "colab": {
          "base_uri": "https://localhost:8080/"
        },
        "outputId": "1836af62-95f5-49a0-ef81-deea76ab7f0a"
      },
      "source": [
        "!apt-get install -y xvfb # Install X Virtual Frame Buffer\r\n",
        "import os\r\n",
        "os.system('Xvfb :1 -screen 0 1600x1200x16  &')    # create virtual display with size 1600x1200 and 16 bit color. Color can be changed to 24 or 8\r\n",
        "os.environ['DISPLAY']=':1.0'    # tell X clients to use our virtual DISPLAY :1"
      ],
      "execution_count": null,
      "outputs": [
        {
          "output_type": "stream",
          "text": [
            "Reading package lists... Done\n",
            "Building dependency tree       \n",
            "Reading state information... Done\n",
            "The following NEW packages will be installed:\n",
            "  xvfb\n",
            "0 upgraded, 1 newly installed, 0 to remove and 16 not upgraded.\n",
            "Need to get 784 kB of archives.\n",
            "After this operation, 2,270 kB of additional disk space will be used.\n",
            "Get:1 http://archive.ubuntu.com/ubuntu bionic-updates/universe amd64 xvfb amd64 2:1.19.6-1ubuntu4.8 [784 kB]\n",
            "Fetched 784 kB in 0s (7,918 kB/s)\n",
            "Selecting previously unselected package xvfb.\n",
            "(Reading database ... 145483 files and directories currently installed.)\n",
            "Preparing to unpack .../xvfb_2%3a1.19.6-1ubuntu4.8_amd64.deb ...\n",
            "Unpacking xvfb (2:1.19.6-1ubuntu4.8) ...\n",
            "Setting up xvfb (2:1.19.6-1ubuntu4.8) ...\n",
            "Processing triggers for man-db (2.8.3-2ubuntu0.1) ...\n"
          ],
          "name": "stdout"
        }
      ]
    },
    {
      "cell_type": "code",
      "metadata": {
        "id": "3bzBeNlS7cvx"
      },
      "source": [
        "import nltk\r\n",
        "from nltk.stem import WordNetLemmatizer\r\n",
        "lemmatizer = WordNetLemmatizer()\r\n",
        "import pickle\r\n",
        "import numpy as np\r\n",
        "from keras.models import load_model\r\n",
        "model = load_model('chatbot_model.h5')\r\n",
        "import json\r\n",
        "import random\r\n",
        "intents = json.loads(open('intents.json').read())\r\n",
        "words = pickle.load(open('words.pkl','rb'))\r\n",
        "classes = pickle.load(open('classes.pkl','rb'))\r\n",
        "%matplotlib inline\r\n",
        "\r\n",
        "def clean_up_sentence(sentence):\r\n",
        "    # tokenize the pattern - splitting words into array\r\n",
        "    sentence_words = nltk.word_tokenize(sentence)\r\n",
        "    # stemming every word - reducing to base form\r\n",
        "    sentence_words = [lemmatizer.lemmatize(word.lower()) for word in sentence_words]\r\n",
        "    return sentence_words\r\n",
        "\r\n",
        "# return bag of words array: 0 or 1 for words that exist in sentence\r\n",
        "def bag_of_words(sentence, words, show_details=True):\r\n",
        "    # tokenizing patterns\r\n",
        "    sentence_words = clean_up_sentence(sentence)\r\n",
        "    # bag of words - vocabulary matrix\r\n",
        "    bag = [0]*len(words)  \r\n",
        "\r\n",
        "    for s in sentence_words:\r\n",
        "        for i,word in enumerate(words):\r\n",
        "            if word == s: \r\n",
        "                # assign 1 if current word is in the vocabulary position\r\n",
        "                bag[i] = 1\r\n",
        "                if show_details:\r\n",
        "                    print (\"found in bag: %s\" % word)\r\n",
        "    return(np.array(bag))\r\n",
        "\r\n",
        "\r\n",
        "def predict_class(sentence):\r\n",
        "    # filter below  threshold predictions\r\n",
        "    p = bag_of_words(sentence, words,show_details=False)\r\n",
        "    res = model.predict(np.array([p]))[0]\r\n",
        "    ERROR_THRESHOLD = 0.25\r\n",
        "    results = [[i,r] for i,r in enumerate(res) if r>ERROR_THRESHOLD]\r\n",
        "    # sorting strength probability\r\n",
        "    results.sort(key=lambda x: x[1], reverse=True)\r\n",
        "    return_list = []\r\n",
        "\r\n",
        "    for r in results:\r\n",
        "        return_list.append({\"intent\": classes[r[0]], \"probability\": str(r[1])})\r\n",
        "    return return_list\r\n",
        "\r\n",
        "\r\n",
        "def getResponse(ints, intents_json):\r\n",
        "    tag = ints[0]['intent']\r\n",
        "    list_of_intents = intents_json['intents']\r\n",
        "    for i in list_of_intents:\r\n",
        "        if(i['tag']== tag):\r\n",
        "            result = random.choice(i['responses'])\r\n",
        "            break\r\n",
        "    return result\r\n",
        "\r\n",
        "\r\n",
        "#Creating tkinter GUI\r\n",
        "import tkinter\r\n",
        "from tkinter import *\r\n",
        "\r\n",
        "def send():\r\n",
        "    msg = EntryBox.get(\"1.0\",'end-1c').strip()\r\n",
        "    EntryBox.delete(\"0.0\",END)\r\n",
        "    if msg != '':\r\n",
        "        ChatBox.config(state=NORMAL)\r\n",
        "        ChatBox.insert(END, \"You: \" + msg + '\\n\\n')\r\n",
        "        ChatBox.config(foreground=\"#446665\", font=(\"Verdana\", 12 )) \r\n",
        "        ints = predict_class(msg)\r\n",
        "        res = getResponse(ints, intents)\r\n",
        "\r\n",
        "        ChatBox.insert(END, \"Bot: \" + res + '\\n\\n')           \r\n",
        "\r\n",
        "        ChatBox.config(state=DISABLED)\r\n",
        "        ChatBox.yview(END)\r\n",
        "\r\n",
        "root = Tk()\r\n",
        "root.title(\"Chatbot\")\r\n",
        "root.geometry(\"400x500\")\r\n",
        "root.resizable(width=FALSE, height=FALSE)\r\n",
        "\r\n",
        "#Create Chat window\r\n",
        "ChatBox = Text(root, bd=0, bg=\"white\", height=\"8\", width=\"50\", font=\"Arial\",)\r\n",
        "ChatBox.config(state=DISABLED)\r\n",
        "\r\n",
        "#Bind scrollbar to Chat window\r\n",
        "scrollbar = Scrollbar(root, command=ChatBox.yview, cursor=\"heart\")\r\n",
        "ChatBox['yscrollcommand'] = scrollbar.set\r\n",
        "\r\n",
        "#Create Button to send message\r\n",
        "SendButton = Button(root, font=(\"Verdana\",12,'bold'), text=\"Send\", width=\"12\", height=5,\r\n",
        "                    bd=0, bg=\"#f9a602\", activebackground=\"#3c9d9b\",fg='#000000',\r\n",
        "                    command= send )\r\n",
        "\r\n",
        "#Create the box to enter message\r\n",
        "EntryBox = Text(root, bd=0, bg=\"white\",width=\"29\", height=\"5\", font=\"Arial\")\r\n",
        "#EntryBox.bind(\"<Return>\", send)\r\n",
        "\r\n",
        "#Place all components on the screen\r\n",
        "scrollbar.place(x=376,y=6, height=386)\r\n",
        "ChatBox.place(x=6,y=6, height=386, width=370)\r\n",
        "EntryBox.place(x=128, y=401, height=90, width=265)\r\n",
        "SendButton.place(x=6, y=401, height=90)\r\n",
        "\r\n",
        "root.mainloop()"
      ],
      "execution_count": null,
      "outputs": []
    }
  ]
}